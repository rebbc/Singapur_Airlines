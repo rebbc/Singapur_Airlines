{
 "cells": [
  {
   "cell_type": "markdown",
   "metadata": {},
   "source": [
    "<h3>LIBRAIRIES</h3>"
   ]
  },
  {
   "cell_type": "code",
   "execution_count": 2,
   "metadata": {},
   "outputs": [],
   "source": [
    "import pandas as pd\n",
    "from textblob import TextBlob\n",
    "import matplotlib.pyplot as plt"
   ]
  },
  {
   "cell_type": "markdown",
   "metadata": {},
   "source": [
    "<h3>ETL</h3>"
   ]
  },
  {
   "cell_type": "code",
   "execution_count": 3,
   "metadata": {},
   "outputs": [
    {
     "data": {
      "text/html": [
       "<div>\n",
       "<style scoped>\n",
       "    .dataframe tbody tr th:only-of-type {\n",
       "        vertical-align: middle;\n",
       "    }\n",
       "\n",
       "    .dataframe tbody tr th {\n",
       "        vertical-align: top;\n",
       "    }\n",
       "\n",
       "    .dataframe thead th {\n",
       "        text-align: right;\n",
       "    }\n",
       "</style>\n",
       "<table border=\"1\" class=\"dataframe\">\n",
       "  <thead>\n",
       "    <tr style=\"text-align: right;\">\n",
       "      <th></th>\n",
       "      <th>published_date</th>\n",
       "      <th>published_platform</th>\n",
       "      <th>rating</th>\n",
       "      <th>type</th>\n",
       "      <th>text</th>\n",
       "      <th>title</th>\n",
       "      <th>helpful_votes</th>\n",
       "    </tr>\n",
       "  </thead>\n",
       "  <tbody>\n",
       "    <tr>\n",
       "      <th>0</th>\n",
       "      <td>2024-03-12T14:41:14-04:00</td>\n",
       "      <td>Desktop</td>\n",
       "      <td>3</td>\n",
       "      <td>review</td>\n",
       "      <td>We used this airline to go from Singapore to L...</td>\n",
       "      <td>Ok</td>\n",
       "      <td>0</td>\n",
       "    </tr>\n",
       "    <tr>\n",
       "      <th>1</th>\n",
       "      <td>2024-03-11T19:39:13-04:00</td>\n",
       "      <td>Desktop</td>\n",
       "      <td>5</td>\n",
       "      <td>review</td>\n",
       "      <td>The service on Singapore Airlines Suites Class...</td>\n",
       "      <td>The service in Suites Class makes one feel lik...</td>\n",
       "      <td>0</td>\n",
       "    </tr>\n",
       "    <tr>\n",
       "      <th>2</th>\n",
       "      <td>2024-03-11T12:20:23-04:00</td>\n",
       "      <td>Desktop</td>\n",
       "      <td>1</td>\n",
       "      <td>review</td>\n",
       "      <td>Booked, paid and received email confirmation f...</td>\n",
       "      <td>Don’t give them your money</td>\n",
       "      <td>0</td>\n",
       "    </tr>\n",
       "    <tr>\n",
       "      <th>3</th>\n",
       "      <td>2024-03-11T07:12:27-04:00</td>\n",
       "      <td>Desktop</td>\n",
       "      <td>5</td>\n",
       "      <td>review</td>\n",
       "      <td>Best airline in the world, seats, food, servic...</td>\n",
       "      <td>Best Airline in the World</td>\n",
       "      <td>0</td>\n",
       "    </tr>\n",
       "    <tr>\n",
       "      <th>4</th>\n",
       "      <td>2024-03-10T05:34:18-04:00</td>\n",
       "      <td>Desktop</td>\n",
       "      <td>2</td>\n",
       "      <td>review</td>\n",
       "      <td>Premium Economy Seating on Singapore Airlines ...</td>\n",
       "      <td>Premium Economy Seating on Singapore Airlines ...</td>\n",
       "      <td>0</td>\n",
       "    </tr>\n",
       "    <tr>\n",
       "      <th>...</th>\n",
       "      <td>...</td>\n",
       "      <td>...</td>\n",
       "      <td>...</td>\n",
       "      <td>...</td>\n",
       "      <td>...</td>\n",
       "      <td>...</td>\n",
       "      <td>...</td>\n",
       "    </tr>\n",
       "    <tr>\n",
       "      <th>9995</th>\n",
       "      <td>2018-08-06T03:48:21-04:00</td>\n",
       "      <td>Desktop</td>\n",
       "      <td>5</td>\n",
       "      <td>review</td>\n",
       "      <td>First part done with Singapore Airlines - acce...</td>\n",
       "      <td>Flew to NZ 1st half Singapore Airlines, 2nd ha...</td>\n",
       "      <td>1</td>\n",
       "    </tr>\n",
       "    <tr>\n",
       "      <th>9996</th>\n",
       "      <td>2018-08-05T22:50:29-04:00</td>\n",
       "      <td>Mobile</td>\n",
       "      <td>5</td>\n",
       "      <td>review</td>\n",
       "      <td>And again a great Flight with Singapore Air. G...</td>\n",
       "      <td>Best Airline</td>\n",
       "      <td>1</td>\n",
       "    </tr>\n",
       "    <tr>\n",
       "      <th>9997</th>\n",
       "      <td>2018-08-05T22:47:06-04:00</td>\n",
       "      <td>Desktop</td>\n",
       "      <td>5</td>\n",
       "      <td>review</td>\n",
       "      <td>We flew business class from Frankfurt, via Sin...</td>\n",
       "      <td>Superb service on Singapore Airlines</td>\n",
       "      <td>1</td>\n",
       "    </tr>\n",
       "    <tr>\n",
       "      <th>9998</th>\n",
       "      <td>2018-08-05T20:32:03-04:00</td>\n",
       "      <td>Desktop</td>\n",
       "      <td>4</td>\n",
       "      <td>review</td>\n",
       "      <td>As always, the A380 aircraft was spotlessly pr...</td>\n",
       "      <td>A Comfortable Fiight Spoiled by lack of adequa...</td>\n",
       "      <td>2</td>\n",
       "    </tr>\n",
       "    <tr>\n",
       "      <th>9999</th>\n",
       "      <td>2018-08-05T20:19:51-04:00</td>\n",
       "      <td>Desktop</td>\n",
       "      <td>4</td>\n",
       "      <td>review</td>\n",
       "      <td>As always, Singapore Airlines has done it agai...</td>\n",
       "      <td>Delivered as expected :)</td>\n",
       "      <td>3</td>\n",
       "    </tr>\n",
       "  </tbody>\n",
       "</table>\n",
       "<p>10000 rows × 7 columns</p>\n",
       "</div>"
      ],
      "text/plain": [
       "                 published_date published_platform  rating    type  \\\n",
       "0     2024-03-12T14:41:14-04:00            Desktop       3  review   \n",
       "1     2024-03-11T19:39:13-04:00            Desktop       5  review   \n",
       "2     2024-03-11T12:20:23-04:00            Desktop       1  review   \n",
       "3     2024-03-11T07:12:27-04:00            Desktop       5  review   \n",
       "4     2024-03-10T05:34:18-04:00            Desktop       2  review   \n",
       "...                         ...                ...     ...     ...   \n",
       "9995  2018-08-06T03:48:21-04:00            Desktop       5  review   \n",
       "9996  2018-08-05T22:50:29-04:00             Mobile       5  review   \n",
       "9997  2018-08-05T22:47:06-04:00            Desktop       5  review   \n",
       "9998  2018-08-05T20:32:03-04:00            Desktop       4  review   \n",
       "9999  2018-08-05T20:19:51-04:00            Desktop       4  review   \n",
       "\n",
       "                                                   text  \\\n",
       "0     We used this airline to go from Singapore to L...   \n",
       "1     The service on Singapore Airlines Suites Class...   \n",
       "2     Booked, paid and received email confirmation f...   \n",
       "3     Best airline in the world, seats, food, servic...   \n",
       "4     Premium Economy Seating on Singapore Airlines ...   \n",
       "...                                                 ...   \n",
       "9995  First part done with Singapore Airlines - acce...   \n",
       "9996  And again a great Flight with Singapore Air. G...   \n",
       "9997  We flew business class from Frankfurt, via Sin...   \n",
       "9998  As always, the A380 aircraft was spotlessly pr...   \n",
       "9999  As always, Singapore Airlines has done it agai...   \n",
       "\n",
       "                                                  title  helpful_votes  \n",
       "0                                                    Ok              0  \n",
       "1     The service in Suites Class makes one feel lik...              0  \n",
       "2                            Don’t give them your money              0  \n",
       "3                             Best Airline in the World              0  \n",
       "4     Premium Economy Seating on Singapore Airlines ...              0  \n",
       "...                                                 ...            ...  \n",
       "9995  Flew to NZ 1st half Singapore Airlines, 2nd ha...              1  \n",
       "9996                                       Best Airline              1  \n",
       "9997               Superb service on Singapore Airlines              1  \n",
       "9998  A Comfortable Fiight Spoiled by lack of adequa...              2  \n",
       "9999                           Delivered as expected :)              3  \n",
       "\n",
       "[10000 rows x 7 columns]"
      ]
     },
     "execution_count": 3,
     "metadata": {},
     "output_type": "execute_result"
    }
   ],
   "source": [
    "# I extract the file from a local CSV and convert to DataFrame.\n",
    "df = pd.read_csv('singapore_airlines_reviews.csv')\n",
    "pd.DataFrame(df)"
   ]
  },
  {
   "cell_type": "code",
   "execution_count": 4,
   "metadata": {},
   "outputs": [
    {
     "name": "stdout",
     "output_type": "stream",
     "text": [
      "<class 'pandas.core.frame.DataFrame'>\n",
      "RangeIndex: 10000 entries, 0 to 9999\n",
      "Data columns (total 7 columns):\n",
      " #   Column              Non-Null Count  Dtype \n",
      "---  ------              --------------  ----- \n",
      " 0   published_date      10000 non-null  object\n",
      " 1   published_platform  10000 non-null  object\n",
      " 2   rating              10000 non-null  int64 \n",
      " 3   type                10000 non-null  object\n",
      " 4   text                10000 non-null  object\n",
      " 5   title               9999 non-null   object\n",
      " 6   helpful_votes       10000 non-null  int64 \n",
      "dtypes: int64(2), object(5)\n",
      "memory usage: 547.0+ KB\n"
     ]
    }
   ],
   "source": [
    "# Check data type and count non-null rows.\n",
    "df.info()"
   ]
  },
  {
   "cell_type": "code",
   "execution_count": 5,
   "metadata": {},
   "outputs": [],
   "source": [
    "# Drop null rows.\n",
    "df.dropna(inplace=True)"
   ]
  },
  {
   "cell_type": "code",
   "execution_count": 6,
   "metadata": {},
   "outputs": [],
   "source": [
    "# When converting to datetime, the need arises to indicate the time zone. \n",
    "df['published_date'] = pd.to_datetime(df['published_date'], format='mixed', utc=True)\n",
    "df['published_date'] = pd.to_datetime(df['published_date']).dt.strftime('%Y/%m/%d %H:%M:%S')\n",
    "df['published_date'] = pd.to_datetime(df['published_date']) \n",
    "# I use datetime on the column again so that it modifies the data type."
   ]
  },
  {
   "cell_type": "code",
   "execution_count": 7,
   "metadata": {},
   "outputs": [
    {
     "name": "stdout",
     "output_type": "stream",
     "text": [
      "<class 'pandas.core.frame.DataFrame'>\n",
      "Index: 9999 entries, 0 to 9999\n",
      "Data columns (total 7 columns):\n",
      " #   Column              Non-Null Count  Dtype         \n",
      "---  ------              --------------  -----         \n",
      " 0   published_date      9999 non-null   datetime64[ns]\n",
      " 1   published_platform  9999 non-null   object        \n",
      " 2   rating              9999 non-null   int64         \n",
      " 3   type                9999 non-null   object        \n",
      " 4   text                9999 non-null   object        \n",
      " 5   title               9999 non-null   object        \n",
      " 6   helpful_votes       9999 non-null   int64         \n",
      "dtypes: datetime64[ns](1), int64(2), object(4)\n",
      "memory usage: 624.9+ KB\n"
     ]
    }
   ],
   "source": [
    "# Check the data type of the last modification.\n",
    "df.info()"
   ]
  },
  {
   "cell_type": "code",
   "execution_count": 8,
   "metadata": {},
   "outputs": [
    {
     "name": "stdout",
     "output_type": "stream",
     "text": [
      "published_platform: ['Desktop' 'Mobile']\n",
      "rating: [3 5 1 2 4]\n",
      "type: ['review']\n"
     ]
    }
   ],
   "source": [
    "#I check unique values, don't detected erroneous data.\n",
    "print(\"published_platform:\", df['published_platform'].unique())\n",
    "print(\"rating:\", df['rating'].unique())\n",
    "print(\"type:\", df['type'].unique())"
   ]
  },
  {
   "cell_type": "code",
   "execution_count": 9,
   "metadata": {},
   "outputs": [],
   "source": [
    "# Drop the title column because I want to focus on the text of the reviews to do a sentiment analysis.\n",
    "df.drop(columns='title', inplace=True)\n",
    "\n",
    "# Drop the type column because this dataset ONLY contains reviews. I consider it unnecessary.\n",
    "df.drop(columns='type', inplace=True)"
   ]
  },
  {
   "cell_type": "code",
   "execution_count": 10,
   "metadata": {},
   "outputs": [],
   "source": [
    "# I define a function to do the sentiment analysis.\n",
    "def sentiment_analysis(text):\n",
    "    analysis = TextBlob(text)\n",
    "    if analysis.sentiment.polarity > 0:\n",
    "        return '2' #positive\n",
    "    elif analysis.sentiment.polarity == 0:\n",
    "        return '1' #neutral\n",
    "    elif analysis.sentiment.polarity < 0:\n",
    "        return '0' #negative\n",
    "    else: \n",
    "        return '1'"
   ]
  },
  {
   "cell_type": "code",
   "execution_count": 11,
   "metadata": {},
   "outputs": [],
   "source": [
    "# Apply the function to the text column.\n",
    "df['sentiment_analysis'] = df['text'].apply(sentiment_analysis)"
   ]
  },
  {
   "cell_type": "code",
   "execution_count": 12,
   "metadata": {},
   "outputs": [
    {
     "data": {
      "text/html": [
       "<div>\n",
       "<style scoped>\n",
       "    .dataframe tbody tr th:only-of-type {\n",
       "        vertical-align: middle;\n",
       "    }\n",
       "\n",
       "    .dataframe tbody tr th {\n",
       "        vertical-align: top;\n",
       "    }\n",
       "\n",
       "    .dataframe thead th {\n",
       "        text-align: right;\n",
       "    }\n",
       "</style>\n",
       "<table border=\"1\" class=\"dataframe\">\n",
       "  <thead>\n",
       "    <tr style=\"text-align: right;\">\n",
       "      <th></th>\n",
       "      <th>published_date</th>\n",
       "      <th>published_platform</th>\n",
       "      <th>rating</th>\n",
       "      <th>text</th>\n",
       "      <th>helpful_votes</th>\n",
       "      <th>sentiment_analysis</th>\n",
       "    </tr>\n",
       "  </thead>\n",
       "  <tbody>\n",
       "    <tr>\n",
       "      <th>0</th>\n",
       "      <td>2024-03-12 18:41:14</td>\n",
       "      <td>Desktop</td>\n",
       "      <td>3</td>\n",
       "      <td>We used this airline to go from Singapore to L...</td>\n",
       "      <td>0</td>\n",
       "      <td>2</td>\n",
       "    </tr>\n",
       "    <tr>\n",
       "      <th>1</th>\n",
       "      <td>2024-03-11 23:39:13</td>\n",
       "      <td>Desktop</td>\n",
       "      <td>5</td>\n",
       "      <td>The service on Singapore Airlines Suites Class...</td>\n",
       "      <td>0</td>\n",
       "      <td>2</td>\n",
       "    </tr>\n",
       "    <tr>\n",
       "      <th>2</th>\n",
       "      <td>2024-03-11 16:20:23</td>\n",
       "      <td>Desktop</td>\n",
       "      <td>1</td>\n",
       "      <td>Booked, paid and received email confirmation f...</td>\n",
       "      <td>0</td>\n",
       "      <td>0</td>\n",
       "    </tr>\n",
       "    <tr>\n",
       "      <th>3</th>\n",
       "      <td>2024-03-11 11:12:27</td>\n",
       "      <td>Desktop</td>\n",
       "      <td>5</td>\n",
       "      <td>Best airline in the world, seats, food, servic...</td>\n",
       "      <td>0</td>\n",
       "      <td>2</td>\n",
       "    </tr>\n",
       "    <tr>\n",
       "      <th>4</th>\n",
       "      <td>2024-03-10 09:34:18</td>\n",
       "      <td>Desktop</td>\n",
       "      <td>2</td>\n",
       "      <td>Premium Economy Seating on Singapore Airlines ...</td>\n",
       "      <td>0</td>\n",
       "      <td>0</td>\n",
       "    </tr>\n",
       "    <tr>\n",
       "      <th>5</th>\n",
       "      <td>2024-03-10 06:16:48</td>\n",
       "      <td>Desktop</td>\n",
       "      <td>1</td>\n",
       "      <td>We booked our flights a full 9 months in advan...</td>\n",
       "      <td>0</td>\n",
       "      <td>0</td>\n",
       "    </tr>\n",
       "    <tr>\n",
       "      <th>6</th>\n",
       "      <td>2024-03-10 05:54:43</td>\n",
       "      <td>Desktop</td>\n",
       "      <td>5</td>\n",
       "      <td>This was a fascinating experience. As I sat in...</td>\n",
       "      <td>0</td>\n",
       "      <td>2</td>\n",
       "    </tr>\n",
       "    <tr>\n",
       "      <th>7</th>\n",
       "      <td>2024-03-09 22:45:56</td>\n",
       "      <td>Desktop</td>\n",
       "      <td>1</td>\n",
       "      <td>Very bad expeirence for flight check in at bai...</td>\n",
       "      <td>0</td>\n",
       "      <td>0</td>\n",
       "    </tr>\n",
       "    <tr>\n",
       "      <th>8</th>\n",
       "      <td>2024-03-09 04:10:41</td>\n",
       "      <td>Desktop</td>\n",
       "      <td>1</td>\n",
       "      <td>Respected Faculty, I am Bincy, writing this  t...</td>\n",
       "      <td>0</td>\n",
       "      <td>2</td>\n",
       "    </tr>\n",
       "    <tr>\n",
       "      <th>9</th>\n",
       "      <td>2024-03-09 00:18:57</td>\n",
       "      <td>Desktop</td>\n",
       "      <td>1</td>\n",
       "      <td>I would rate Singapore airlines the worse I ha...</td>\n",
       "      <td>1</td>\n",
       "      <td>0</td>\n",
       "    </tr>\n",
       "  </tbody>\n",
       "</table>\n",
       "</div>"
      ],
      "text/plain": [
       "       published_date published_platform  rating  \\\n",
       "0 2024-03-12 18:41:14            Desktop       3   \n",
       "1 2024-03-11 23:39:13            Desktop       5   \n",
       "2 2024-03-11 16:20:23            Desktop       1   \n",
       "3 2024-03-11 11:12:27            Desktop       5   \n",
       "4 2024-03-10 09:34:18            Desktop       2   \n",
       "5 2024-03-10 06:16:48            Desktop       1   \n",
       "6 2024-03-10 05:54:43            Desktop       5   \n",
       "7 2024-03-09 22:45:56            Desktop       1   \n",
       "8 2024-03-09 04:10:41            Desktop       1   \n",
       "9 2024-03-09 00:18:57            Desktop       1   \n",
       "\n",
       "                                                text  helpful_votes  \\\n",
       "0  We used this airline to go from Singapore to L...              0   \n",
       "1  The service on Singapore Airlines Suites Class...              0   \n",
       "2  Booked, paid and received email confirmation f...              0   \n",
       "3  Best airline in the world, seats, food, servic...              0   \n",
       "4  Premium Economy Seating on Singapore Airlines ...              0   \n",
       "5  We booked our flights a full 9 months in advan...              0   \n",
       "6  This was a fascinating experience. As I sat in...              0   \n",
       "7  Very bad expeirence for flight check in at bai...              0   \n",
       "8  Respected Faculty, I am Bincy, writing this  t...              0   \n",
       "9  I would rate Singapore airlines the worse I ha...              1   \n",
       "\n",
       "  sentiment_analysis  \n",
       "0                  2  \n",
       "1                  2  \n",
       "2                  0  \n",
       "3                  2  \n",
       "4                  0  \n",
       "5                  0  \n",
       "6                  2  \n",
       "7                  0  \n",
       "8                  2  \n",
       "9                  0  "
      ]
     },
     "execution_count": 12,
     "metadata": {},
     "output_type": "execute_result"
    }
   ],
   "source": [
    "# Check the dataset.\n",
    "df.head(10)"
   ]
  },
  {
   "cell_type": "markdown",
   "metadata": {},
   "source": [
    "<h3>EDA</h3>"
   ]
  },
  {
   "cell_type": "markdown",
   "metadata": {},
   "source": [
    "<p>As we could see, that dataset is composed of user reviews, and contains a count of interactions from other \"helpful_votes\". We are going to focus on how users interact and what opinions they have about their experience.</p>"
   ]
  },
  {
   "cell_type": "code",
   "execution_count": 49,
   "metadata": {},
   "outputs": [
    {
     "data": {
      "image/png": "[encoded data removed]",
      "text/plain": [
       "<Figure size 640x480 with 1 Axes>"
      ]
     },
     "metadata": {},
     "output_type": "display_data"
    }
   ],
   "source": [
    "data = df['rating'].groupby(df['published_date'].dt.year).count()\n",
    "plt.bar(data.index, data.values, color='navy')\n",
    "\n",
    "plt.xlabel('Rating Count')\n",
    "plt.ylabel('Year of publication')\n",
    "plt.title('Total Rating Count by Year')\n",
    "plt.xticks(rotation=45)\n",
    "\n",
    "plt.show()"
   ]
  },
  {
   "cell_type": "markdown",
   "metadata": {},
   "source": [
    "<p>Counting the number of reviews per year, the level of interaction on the platforms has decreased in recent years.</p>"
   ]
  },
  {
   "cell_type": "code",
   "execution_count": 37,
   "metadata": {},
   "outputs": [
    {
     "data": {
      "image/png": "[encoded data removed]",
      "text/plain": [
       "<Figure size 640x480 with 1 Axes>"
      ]
     },
     "metadata": {},
     "output_type": "display_data"
    }
   ],
   "source": [
    "data = df['rating']\n",
    "\n",
    "value_counts = data.value_counts()\n",
    "\n",
    "plt.bar(value_counts.index, value_counts.values, color=['dodgerblue','skyblue','grey','lightblue','silver'], width=0.4)\n",
    "\n",
    "plt.xticks()\n",
    "\n",
    "\n",
    "plt.title('Total Rating Count')\n",
    "plt.xlabel('Rating')\n",
    "plt.ylabel('Count')\n",
    "\n",
    "# Show the graphic\n",
    "plt.show()"
   ]
  },
  {
   "cell_type": "markdown",
   "metadata": {},
   "source": [
    "<p>Analyzing the rating of the comments, we can see that the highest values ​​stand out, 4 and 5. This could indicate positive evaluations.</p>"
   ]
  },
  {
   "cell_type": "code",
   "execution_count": 14,
   "metadata": {},
   "outputs": [
    {
     "data": {
      "image/png": "[encoded data removed]",
      "text/plain": [
       "<Figure size 640x480 with 1 Axes>"
      ]
     },
     "metadata": {},
     "output_type": "display_data"
    }
   ],
   "source": [
    "data = df['sentiment_analysis']\n",
    "\n",
    "value_counts = data.value_counts()\n",
    "\n",
    "plt.bar(value_counts.index, value_counts.values, color=['blue','grey','skyblue'], width=0.4)\n",
    "\n",
    "plt.xticks([0, 1, 2], ['Positive', 'Neutral', 'Negative'])\n",
    "\n",
    "\n",
    "for i, valor in enumerate(value_counts):\n",
    "    plt.text(i, valor, str(valor), ha='center', va='bottom')\n",
    "\n",
    "\n",
    "plt.title('Total Sentiment Analysis Count')\n",
    "plt.xlabel('Sentiment Analysis')\n",
    "plt.ylabel('Count')\n",
    "\n",
    "# Show the graphic\n",
    "plt.show()"
   ]
  },
  {
   "cell_type": "markdown",
   "metadata": {},
   "source": [
    "<p>After analyzing the sentiments of the reviews, we can affirm with this graph that the users had a good experience, because almost all of the comments were positive.</p>"
   ]
  },
  {
   "cell_type": "code",
   "execution_count": 25,
   "metadata": {},
   "outputs": [
    {
     "data": {
      "image/png": "[encoded data removed]",
      "text/plain": [
       "<Figure size 500x500 with 1 Axes>"
      ]
     },
     "metadata": {},
     "output_type": "display_data"
    }
   ],
   "source": [
    "labels = df['published_platform'].unique()\n",
    "sizes = df['published_platform'].value_counts()\n",
    "\n",
    "plt.figure(figsize=(5, 5))\n",
    "plt.pie(sizes, labels=labels, autopct='%1.1f%%')\n",
    "\n",
    "plt.title('What platform is most used?')\n",
    "plt.xlabel('Published Platform')\n",
    "plt.ylabel('Count')\n",
    "\n",
    "# Show the graphic\n",
    "plt.show()"
   ]
  },
  {
   "cell_type": "markdown",
   "metadata": {},
   "source": [
    "<p>In this last graph, we can see that users use the desktop platform more. Could this indicate any problem with the mobile version? Are there improvements to continue making to the desktop platform? </p>"
   ]
  }
 ],
 "metadata": {
  "kernelspec": {
   "display_name": "Python 3",
   "language": "python",
   "name": "python3"
  },
  "language_info": {
   "codemirror_mode": {
    "name": "ipython",
    "version": 3
   },
   "file_extension": ".py",
   "mimetype": "text/x-python",
   "name": "python",
   "nbconvert_exporter": "python",
   "pygments_lexer": "ipython3",
   "version": "3.11.9"
  }
 },
 "nbformat": 4,
 "nbformat_minor": 2
}
